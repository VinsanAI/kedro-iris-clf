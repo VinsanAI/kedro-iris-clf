{
 "cells": [
  {
   "cell_type": "markdown",
   "id": "573180d9",
   "metadata": {},
   "source": [
    "# Kedro & Jupyter Notebook Fundamentals :"
   ]
  },
  {
   "cell_type": "markdown",
   "id": "d7a1f33d",
   "metadata": {},
   "source": [
    "## Exploring context :"
   ]
  },
  {
   "cell_type": "code",
   "execution_count": 78,
   "id": "dd56d419",
   "metadata": {},
   "outputs": [
    {
     "data": {
      "text/plain": [
       "<kedro.framework.context.context.KedroContext at 0x227bdcce048>"
      ]
     },
     "execution_count": 78,
     "metadata": {},
     "output_type": "execute_result"
    }
   ],
   "source": [
    "context"
   ]
  },
  {
   "cell_type": "code",
   "execution_count": 10,
   "id": "a76bdeed",
   "metadata": {},
   "outputs": [
    {
     "name": "stdout",
     "output_type": "stream",
     "text": [
      "2021-07-13 20:46:55,520 - kedro.io.data_catalog - INFO - Loading data from `example_iris_data` (CSVDataSet)...\n"
     ]
    },
    {
     "data": {
      "text/html": [
       "<div>\n",
       "<style scoped>\n",
       "    .dataframe tbody tr th:only-of-type {\n",
       "        vertical-align: middle;\n",
       "    }\n",
       "\n",
       "    .dataframe tbody tr th {\n",
       "        vertical-align: top;\n",
       "    }\n",
       "\n",
       "    .dataframe thead th {\n",
       "        text-align: right;\n",
       "    }\n",
       "</style>\n",
       "<table border=\"1\" class=\"dataframe\">\n",
       "  <thead>\n",
       "    <tr style=\"text-align: right;\">\n",
       "      <th></th>\n",
       "      <th>sepal_length</th>\n",
       "      <th>sepal_width</th>\n",
       "      <th>petal_length</th>\n",
       "      <th>petal_width</th>\n",
       "      <th>species</th>\n",
       "    </tr>\n",
       "  </thead>\n",
       "  <tbody>\n",
       "    <tr>\n",
       "      <th>0</th>\n",
       "      <td>5.1</td>\n",
       "      <td>3.5</td>\n",
       "      <td>1.4</td>\n",
       "      <td>0.2</td>\n",
       "      <td>setosa</td>\n",
       "    </tr>\n",
       "    <tr>\n",
       "      <th>1</th>\n",
       "      <td>4.9</td>\n",
       "      <td>3.0</td>\n",
       "      <td>1.4</td>\n",
       "      <td>0.2</td>\n",
       "      <td>setosa</td>\n",
       "    </tr>\n",
       "    <tr>\n",
       "      <th>2</th>\n",
       "      <td>4.7</td>\n",
       "      <td>3.2</td>\n",
       "      <td>1.3</td>\n",
       "      <td>0.2</td>\n",
       "      <td>setosa</td>\n",
       "    </tr>\n",
       "    <tr>\n",
       "      <th>3</th>\n",
       "      <td>4.6</td>\n",
       "      <td>3.1</td>\n",
       "      <td>1.5</td>\n",
       "      <td>0.2</td>\n",
       "      <td>setosa</td>\n",
       "    </tr>\n",
       "    <tr>\n",
       "      <th>4</th>\n",
       "      <td>5.0</td>\n",
       "      <td>3.6</td>\n",
       "      <td>1.4</td>\n",
       "      <td>0.2</td>\n",
       "      <td>setosa</td>\n",
       "    </tr>\n",
       "  </tbody>\n",
       "</table>\n",
       "</div>"
      ],
      "text/plain": [
       "   sepal_length  sepal_width  petal_length  petal_width species\n",
       "0           5.1          3.5           1.4          0.2  setosa\n",
       "1           4.9          3.0           1.4          0.2  setosa\n",
       "2           4.7          3.2           1.3          0.2  setosa\n",
       "3           4.6          3.1           1.5          0.2  setosa\n",
       "4           5.0          3.6           1.4          0.2  setosa"
      ]
     },
     "execution_count": 10,
     "metadata": {},
     "output_type": "execute_result"
    }
   ],
   "source": [
    "# Loading data\n",
    "context.catalog.load(\"example_iris_data\").head()"
   ]
  },
  {
   "cell_type": "code",
   "execution_count": 16,
   "id": "a8401fea",
   "metadata": {},
   "outputs": [
    {
     "name": "stdout",
     "output_type": "stream",
     "text": [
      "2021-07-13 20:49:16,760 - kedro.io.data_catalog - INFO - Loading data from `example_iris_data` (CSVDataSet)...\n"
     ]
    },
    {
     "name": "stderr",
     "output_type": "stream",
     "text": [
      "c:\\users\\dell\\anaconda3\\envs\\kedro-env\\lib\\site-packages\\kedro\\framework\\context\\context.py:61: DeprecationWarning: Accessing io via the context will be deprecated in Kedro 0.18.0.\n",
      "  DeprecationWarning,\n"
     ]
    },
    {
     "data": {
      "text/html": [
       "<div>\n",
       "<style scoped>\n",
       "    .dataframe tbody tr th:only-of-type {\n",
       "        vertical-align: middle;\n",
       "    }\n",
       "\n",
       "    .dataframe tbody tr th {\n",
       "        vertical-align: top;\n",
       "    }\n",
       "\n",
       "    .dataframe thead th {\n",
       "        text-align: right;\n",
       "    }\n",
       "</style>\n",
       "<table border=\"1\" class=\"dataframe\">\n",
       "  <thead>\n",
       "    <tr style=\"text-align: right;\">\n",
       "      <th></th>\n",
       "      <th>sepal_length</th>\n",
       "      <th>sepal_width</th>\n",
       "      <th>petal_length</th>\n",
       "      <th>petal_width</th>\n",
       "      <th>species</th>\n",
       "    </tr>\n",
       "  </thead>\n",
       "  <tbody>\n",
       "    <tr>\n",
       "      <th>0</th>\n",
       "      <td>5.1</td>\n",
       "      <td>3.5</td>\n",
       "      <td>1.4</td>\n",
       "      <td>0.2</td>\n",
       "      <td>setosa</td>\n",
       "    </tr>\n",
       "    <tr>\n",
       "      <th>1</th>\n",
       "      <td>4.9</td>\n",
       "      <td>3.0</td>\n",
       "      <td>1.4</td>\n",
       "      <td>0.2</td>\n",
       "      <td>setosa</td>\n",
       "    </tr>\n",
       "    <tr>\n",
       "      <th>2</th>\n",
       "      <td>4.7</td>\n",
       "      <td>3.2</td>\n",
       "      <td>1.3</td>\n",
       "      <td>0.2</td>\n",
       "      <td>setosa</td>\n",
       "    </tr>\n",
       "    <tr>\n",
       "      <th>3</th>\n",
       "      <td>4.6</td>\n",
       "      <td>3.1</td>\n",
       "      <td>1.5</td>\n",
       "      <td>0.2</td>\n",
       "      <td>setosa</td>\n",
       "    </tr>\n",
       "    <tr>\n",
       "      <th>4</th>\n",
       "      <td>5.0</td>\n",
       "      <td>3.6</td>\n",
       "      <td>1.4</td>\n",
       "      <td>0.2</td>\n",
       "      <td>setosa</td>\n",
       "    </tr>\n",
       "  </tbody>\n",
       "</table>\n",
       "</div>"
      ],
      "text/plain": [
       "   sepal_length  sepal_width  petal_length  petal_width species\n",
       "0           5.1          3.5           1.4          0.2  setosa\n",
       "1           4.9          3.0           1.4          0.2  setosa\n",
       "2           4.7          3.2           1.3          0.2  setosa\n",
       "3           4.6          3.1           1.5          0.2  setosa\n",
       "4           5.0          3.6           1.4          0.2  setosa"
      ]
     },
     "execution_count": 16,
     "metadata": {},
     "output_type": "execute_result"
    }
   ],
   "source": [
    "# Loading data\n",
    "context.io.load(\"example_iris_data\").head()"
   ]
  },
  {
   "cell_type": "code",
   "execution_count": 8,
   "id": "8729cf18",
   "metadata": {},
   "outputs": [
    {
     "data": {
      "text/plain": [
       "{'example_test_data_ratio': 0.2,\n",
       " 'example_num_train_iter': 10000,\n",
       " 'example_learning_rate': 0.01}"
      ]
     },
     "execution_count": 8,
     "metadata": {},
     "output_type": "execute_result"
    }
   ],
   "source": [
    "# Displaying contents of parameters yml file\n",
    "context.params"
   ]
  },
  {
   "cell_type": "code",
   "execution_count": 53,
   "id": "064686ec",
   "metadata": {},
   "outputs": [
    {
     "name": "stdout",
     "output_type": "stream",
     "text": [
      "E:\\Santosh_DS\\kedro sample projects\\iris-clf-base\n",
      "iris_clf_lib\n",
      "local\n"
     ]
    }
   ],
   "source": [
    "print(context.project_path)\n",
    "print(context.package_name)\n",
    "print(context.env)"
   ]
  },
  {
   "cell_type": "code",
   "execution_count": 55,
   "id": "21b1fa83",
   "metadata": {},
   "outputs": [
    {
     "name": "stdout",
     "output_type": "stream",
     "text": [
      "2021-07-13 23:27:19,590 - kedro.framework.session.store - INFO - `read()` not implemented for `BaseSessionStore`. Assuming empty store.\n",
      "2021-07-13 23:27:19,660 - root - INFO - ** Kedro project Iris Clf Kedro\n",
      "2021-07-13 23:27:19,660 - root - INFO - Defined global variable `context`, `session` and `catalog`\n"
     ]
    }
   ],
   "source": [
    "# Do this whenever you change the yml files and you want yur kedro vars to be refreshed\n",
    "%reload_kedro"
   ]
  },
  {
   "cell_type": "code",
   "execution_count": 56,
   "id": "9a0a9106",
   "metadata": {},
   "outputs": [
    {
     "name": "stderr",
     "output_type": "stream",
     "text": [
      "c:\\users\\dell\\anaconda3\\envs\\kedro-env\\lib\\site-packages\\kedro\\framework\\context\\context.py:61: DeprecationWarning: Accessing pipelines via the context will be deprecated in Kedro 0.18.0.\n",
      "  DeprecationWarning,\n"
     ]
    },
    {
     "data": {
      "text/plain": [
       "{'de': Pipeline([\n",
       " Node(split_data, ['example_iris_data', 'params:example_test_data_ratio'], {'train_x': 'example_train_x', 'train_y': 'example_train_y', 'test_x': 'example_test_x', 'test_y': 'example_test_y'}, 'split')\n",
       " ]),\n",
       " 'ds': Pipeline([\n",
       " Node(train_model, ['example_train_x', 'example_train_y', 'parameters'], 'example_model', 'train'),\n",
       " Node(predict, {'model': 'example_model', 'test_x': 'example_test_x'}, 'example_predictions', 'predict'),\n",
       " Node(report_accuracy, ['example_predictions', 'example_test_y'], None, 'report')\n",
       " ]),\n",
       " '__default__': Pipeline([\n",
       " Node(split_data, ['example_iris_data', 'params:example_test_data_ratio'], {'train_x': 'example_train_x', 'train_y': 'example_train_y', 'test_x': 'example_test_x', 'test_y': 'example_test_y'}, 'split'),\n",
       " Node(train_model, ['example_train_x', 'example_train_y', 'parameters'], 'example_model', 'train'),\n",
       " Node(predict, {'model': 'example_model', 'test_x': 'example_test_x'}, 'example_predictions', 'predict'),\n",
       " Node(report_accuracy, ['example_predictions', 'example_test_y'], None, 'report')\n",
       " ])}"
      ]
     },
     "execution_count": 56,
     "metadata": {},
     "output_type": "execute_result"
    }
   ],
   "source": [
    "# To return all pipelines\n",
    "context.pipelines"
   ]
  },
  {
   "cell_type": "code",
   "execution_count": 57,
   "id": "4f16d8b1",
   "metadata": {},
   "outputs": [
    {
     "name": "stderr",
     "output_type": "stream",
     "text": [
      "c:\\users\\dell\\anaconda3\\envs\\kedro-env\\lib\\site-packages\\kedro\\framework\\context\\context.py:61: DeprecationWarning: Accessing pipeline via the context will be deprecated in Kedro 0.18.0.\n",
      "  DeprecationWarning,\n"
     ]
    },
    {
     "data": {
      "text/plain": [
       "Pipeline([\n",
       "Node(split_data, ['example_iris_data', 'params:example_test_data_ratio'], {'train_x': 'example_train_x', 'train_y': 'example_train_y', 'test_x': 'example_test_x', 'test_y': 'example_test_y'}, 'split'),\n",
       "Node(train_model, ['example_train_x', 'example_train_y', 'parameters'], 'example_model', 'train'),\n",
       "Node(predict, {'model': 'example_model', 'test_x': 'example_test_x'}, 'example_predictions', 'predict'),\n",
       "Node(report_accuracy, ['example_predictions', 'example_test_y'], None, 'report')\n",
       "])"
      ]
     },
     "execution_count": 57,
     "metadata": {},
     "output_type": "execute_result"
    }
   ],
   "source": [
    "# To return default pipeline only\n",
    "context.pipeline"
   ]
  },
  {
   "cell_type": "markdown",
   "id": "4cbe3769",
   "metadata": {},
   "source": [
    "## Running the pipeline"
   ]
  },
  {
   "cell_type": "code",
   "execution_count": 77,
   "id": "c0b16c1c",
   "metadata": {},
   "outputs": [
    {
     "name": "stdout",
     "output_type": "stream",
     "text": [
      "2021-07-14 00:19:25,170 - root - INFO - ** Kedro project iris-clf-base\n",
      "2021-07-14 00:19:25,281 - kedro.io.data_catalog - INFO - Loading data from `example_iris_data` (CSVDataSet)...\n",
      "2021-07-14 00:19:25,284 - kedro.io.data_catalog - INFO - Loading data from `params:example_test_data_ratio` (MemoryDataSet)...\n",
      "2021-07-14 00:19:25,285 - kedro.pipeline.node - INFO - Running node: split: split_data([example_iris_data,params:example_test_data_ratio]) -> [example_test_x,example_test_y,example_train_x,example_train_y]\n",
      "2021-07-14 00:19:25,291 - kedro.io.data_catalog - INFO - Saving data to `example_train_x` (MemoryDataSet)...\n",
      "2021-07-14 00:19:25,292 - kedro.io.data_catalog - INFO - Saving data to `example_train_y` (MemoryDataSet)...\n",
      "2021-07-14 00:19:25,294 - kedro.io.data_catalog - INFO - Saving data to `example_test_x` (MemoryDataSet)...\n",
      "2021-07-14 00:19:25,295 - kedro.io.data_catalog - INFO - Saving data to `example_test_y` (MemoryDataSet)...\n",
      "2021-07-14 00:19:25,296 - kedro.runner.sequential_runner - INFO - Completed 1 out of 4 tasks\n",
      "2021-07-14 00:19:25,298 - kedro.io.data_catalog - INFO - Loading data from `example_train_x` (MemoryDataSet)...\n",
      "2021-07-14 00:19:25,299 - kedro.io.data_catalog - INFO - Loading data from `example_train_y` (MemoryDataSet)...\n",
      "2021-07-14 00:19:25,300 - kedro.io.data_catalog - INFO - Loading data from `parameters` (MemoryDataSet)...\n",
      "2021-07-14 00:19:25,301 - kedro.pipeline.node - INFO - Running node: train: train_model([example_train_x,example_train_y,parameters]) -> [example_model]\n",
      "2021-07-14 00:19:25,626 - kedro.io.data_catalog - INFO - Saving data to `example_model` (MemoryDataSet)...\n",
      "2021-07-14 00:19:25,626 - kedro.runner.sequential_runner - INFO - Completed 2 out of 4 tasks\n",
      "2021-07-14 00:19:25,626 - kedro.io.data_catalog - INFO - Loading data from `example_model` (MemoryDataSet)...\n",
      "2021-07-14 00:19:25,640 - kedro.io.data_catalog - INFO - Loading data from `example_test_x` (MemoryDataSet)...\n",
      "2021-07-14 00:19:25,641 - kedro.pipeline.node - INFO - Running node: predict: predict([example_model,example_test_x]) -> [example_predictions]\n",
      "2021-07-14 00:19:25,643 - kedro.io.data_catalog - INFO - Saving data to `example_predictions` (MemoryDataSet)...\n",
      "2021-07-14 00:19:25,644 - kedro.runner.sequential_runner - INFO - Completed 3 out of 4 tasks\n",
      "2021-07-14 00:19:25,645 - kedro.io.data_catalog - INFO - Loading data from `example_predictions` (MemoryDataSet)...\n",
      "2021-07-14 00:19:25,646 - kedro.io.data_catalog - INFO - Loading data from `example_test_y` (MemoryDataSet)...\n",
      "2021-07-14 00:19:25,646 - kedro.pipeline.node - INFO - Running node: report: report_accuracy([example_predictions,example_test_y]) -> None\n",
      "2021-07-14 00:19:25,648 - iris_clf_lib.pipelines.data_science.nodes - INFO - Model accuracy on test set: 96.67%\n",
      "2021-07-14 00:19:25,651 - kedro.runner.sequential_runner - INFO - Completed 4 out of 4 tasks\n",
      "2021-07-14 00:19:25,652 - kedro.runner.sequential_runner - INFO - Pipeline execution completed successfully.\n"
     ]
    },
    {
     "data": {
      "text/plain": [
       "{}"
      ]
     },
     "execution_count": 77,
     "metadata": {},
     "output_type": "execute_result"
    }
   ],
   "source": [
    "session.run()"
   ]
  },
  {
   "cell_type": "code",
   "execution_count": 79,
   "id": "79cc7405",
   "metadata": {},
   "outputs": [
    {
     "data": {
      "text/plain": [
       "0.2"
      ]
     },
     "execution_count": 79,
     "metadata": {},
     "output_type": "execute_result"
    }
   ],
   "source": [
    "parameters = context.params  # type: Dict\n",
    "parameters[\"example_test_data_ratio\"]"
   ]
  },
  {
   "cell_type": "code",
   "execution_count": 60,
   "id": "e68683cc",
   "metadata": {},
   "outputs": [
    {
     "name": "stdout",
     "output_type": "stream",
     "text": [
      "2021-07-13 23:28:44,057 - kedro.io.data_catalog - INFO - Loading data from `example_iris_data` (CSVDataSet)...\n"
     ]
    },
    {
     "data": {
      "text/html": [
       "<div>\n",
       "<style scoped>\n",
       "    .dataframe tbody tr th:only-of-type {\n",
       "        vertical-align: middle;\n",
       "    }\n",
       "\n",
       "    .dataframe tbody tr th {\n",
       "        vertical-align: top;\n",
       "    }\n",
       "\n",
       "    .dataframe thead th {\n",
       "        text-align: right;\n",
       "    }\n",
       "</style>\n",
       "<table border=\"1\" class=\"dataframe\">\n",
       "  <thead>\n",
       "    <tr style=\"text-align: right;\">\n",
       "      <th></th>\n",
       "      <th>sepal_length</th>\n",
       "      <th>sepal_width</th>\n",
       "      <th>petal_length</th>\n",
       "      <th>petal_width</th>\n",
       "      <th>species</th>\n",
       "    </tr>\n",
       "  </thead>\n",
       "  <tbody>\n",
       "    <tr>\n",
       "      <th>0</th>\n",
       "      <td>5.1</td>\n",
       "      <td>3.5</td>\n",
       "      <td>1.4</td>\n",
       "      <td>0.2</td>\n",
       "      <td>setosa</td>\n",
       "    </tr>\n",
       "    <tr>\n",
       "      <th>1</th>\n",
       "      <td>4.9</td>\n",
       "      <td>3.0</td>\n",
       "      <td>1.4</td>\n",
       "      <td>0.2</td>\n",
       "      <td>setosa</td>\n",
       "    </tr>\n",
       "    <tr>\n",
       "      <th>2</th>\n",
       "      <td>4.7</td>\n",
       "      <td>3.2</td>\n",
       "      <td>1.3</td>\n",
       "      <td>0.2</td>\n",
       "      <td>setosa</td>\n",
       "    </tr>\n",
       "    <tr>\n",
       "      <th>3</th>\n",
       "      <td>4.6</td>\n",
       "      <td>3.1</td>\n",
       "      <td>1.5</td>\n",
       "      <td>0.2</td>\n",
       "      <td>setosa</td>\n",
       "    </tr>\n",
       "    <tr>\n",
       "      <th>4</th>\n",
       "      <td>5.0</td>\n",
       "      <td>3.6</td>\n",
       "      <td>1.4</td>\n",
       "      <td>0.2</td>\n",
       "      <td>setosa</td>\n",
       "    </tr>\n",
       "  </tbody>\n",
       "</table>\n",
       "</div>"
      ],
      "text/plain": [
       "   sepal_length  sepal_width  petal_length  petal_width species\n",
       "0           5.1          3.5           1.4          0.2  setosa\n",
       "1           4.9          3.0           1.4          0.2  setosa\n",
       "2           4.7          3.2           1.3          0.2  setosa\n",
       "3           4.6          3.1           1.5          0.2  setosa\n",
       "4           5.0          3.6           1.4          0.2  setosa"
      ]
     },
     "execution_count": 60,
     "metadata": {},
     "output_type": "execute_result"
    }
   ],
   "source": [
    "df = catalog.load(\"example_iris_data\")\n",
    "df.head()"
   ]
  },
  {
   "cell_type": "raw",
   "id": "8862fb96",
   "metadata": {},
   "source": [
    "Adding new datasets and saving from jupyter\n",
    "\n",
    "Added below in the catalog.yml file \n",
    "\n",
    "my_dataset:\n",
    "  type: pandas.CSVDataSet\n",
    "  filepath: data/01_raw/my_dataset.csv\n",
    "  \n",
    "And now run the below code "
   ]
  },
  {
   "cell_type": "code",
   "execution_count": 62,
   "id": "b8dc0219",
   "metadata": {},
   "outputs": [
    {
     "name": "stdout",
     "output_type": "stream",
     "text": [
      "2021-07-14 00:11:56,763 - kedro.framework.session.store - INFO - `read()` not implemented for `BaseSessionStore`. Assuming empty store.\n",
      "2021-07-14 00:11:56,993 - root - INFO - ** Kedro project Iris Clf Kedro\n",
      "2021-07-14 00:11:56,993 - root - INFO - Defined global variable `context`, `session` and `catalog`\n",
      "2021-07-14 00:11:57,006 - kedro.io.data_catalog - INFO - Saving data to `my_dataset` (CSVDataSet)...\n"
     ]
    }
   ],
   "source": [
    "%reload_kedro\n",
    "\n",
    "my_dict = df[df['species']=='setosa']\n",
    "catalog.save(\"my_dataset\", my_dict)"
   ]
  },
  {
   "cell_type": "code",
   "execution_count": 80,
   "id": "6ff42fc0",
   "metadata": {},
   "outputs": [
    {
     "name": "stderr",
     "output_type": "stream",
     "text": [
      "c:\\users\\dell\\anaconda3\\envs\\kedro-env\\lib\\site-packages\\kedro\\framework\\context\\context.py:61: DeprecationWarning: Accessing pipeline via the context will be deprecated in Kedro 0.18.0.\n",
      "  DeprecationWarning,\n"
     ]
    }
   ],
   "source": [
    "pipeline = context.pipeline"
   ]
  },
  {
   "cell_type": "code",
   "execution_count": 81,
   "id": "5d5898a2",
   "metadata": {},
   "outputs": [
    {
     "name": "stdout",
     "output_type": "stream",
     "text": [
      "#### Pipeline execution order ####\n",
      "Inputs: example_iris_data, parameters, params:example_test_data_ratio\n",
      "\n",
      "split\n",
      "train\n",
      "predict\n",
      "report\n",
      "\n",
      "Outputs: None\n",
      "##################################\n"
     ]
    }
   ],
   "source": [
    "print(pipeline.describe())"
   ]
  },
  {
   "cell_type": "code",
   "execution_count": 82,
   "id": "16959011",
   "metadata": {},
   "outputs": [
    {
     "name": "stdout",
     "output_type": "stream",
     "text": [
      "2021-07-14 00:20:17,190 - kedro.framework.session.store - INFO - `read()` not implemented for `BaseSessionStore`. Assuming empty store.\n",
      "2021-07-14 00:20:17,276 - root - INFO - ** Kedro project Iris Clf Kedro\n",
      "2021-07-14 00:20:17,278 - root - INFO - Defined global variable `context`, `session` and `catalog`\n"
     ]
    }
   ],
   "source": [
    "%reload_kedro"
   ]
  },
  {
   "cell_type": "code",
   "execution_count": 86,
   "id": "8d92a407",
   "metadata": {},
   "outputs": [
    {
     "name": "stdout",
     "output_type": "stream",
     "text": [
      "#### Pipeline execution order ####\n",
      "Inputs: example_iris_data, params:example_test_data_ratio\n",
      "\n",
      "split\n",
      "\n",
      "Outputs: example_test_x, example_test_y, example_train_x, example_train_y\n",
      "##################################\n",
      "#### Pipeline execution order ####\n",
      "Inputs: example_test_x, example_test_y, example_train_x, example_train_y, parameters\n",
      "\n",
      "train\n",
      "predict\n",
      "report\n",
      "\n",
      "Outputs: None\n",
      "##################################\n"
     ]
    }
   ],
   "source": [
    "print(pipeline.only_nodes_with_tags(\"de\").describe())\n",
    "print(pipeline.only_nodes_with_tags(\"ds\").describe())"
   ]
  },
  {
   "cell_type": "code",
   "execution_count": 87,
   "id": "7c4df0fe",
   "metadata": {},
   "outputs": [],
   "source": [
    "# Running a specific pipelines with tags\n",
    "from kedro.framework.context import load_context\n",
    "from kedro.runner import ThreadRunner, SequentialRunner"
   ]
  },
  {
   "cell_type": "code",
   "execution_count": 88,
   "id": "ebbec12d",
   "metadata": {},
   "outputs": [],
   "source": [
    "def run_pipeline(pipeline):\n",
    "    ThreadRunner().run(pipeline, context.io)\n",
    "    \n",
    "def run_pipeline_seq(pipeline):\n",
    "    SequentialRunner().run(pipeline, context.io)"
   ]
  },
  {
   "cell_type": "code",
   "execution_count": 89,
   "id": "66da1b2d",
   "metadata": {},
   "outputs": [
    {
     "name": "stdout",
     "output_type": "stream",
     "text": [
      "2021-07-14 00:23:48,427 - kedro.io.data_catalog - INFO - Loading data from `example_iris_data` (CSVDataSet)...\n",
      "2021-07-14 00:23:48,433 - kedro.io.data_catalog - INFO - Loading data from `params:example_test_data_ratio` (MemoryDataSet)...\n",
      "2021-07-14 00:23:48,434 - kedro.pipeline.node - INFO - Running node: split: split_data([example_iris_data,params:example_test_data_ratio]) -> [example_test_x,example_test_y,example_train_x,example_train_y]\n",
      "2021-07-14 00:23:48,440 - kedro.io.data_catalog - INFO - Saving data to `example_train_x` (MemoryDataSet)...\n",
      "2021-07-14 00:23:48,441 - kedro.io.data_catalog - INFO - Saving data to `example_train_y` (MemoryDataSet)...\n",
      "2021-07-14 00:23:48,442 - kedro.io.data_catalog - INFO - Saving data to `example_test_x` (MemoryDataSet)...\n",
      "2021-07-14 00:23:48,443 - kedro.io.data_catalog - INFO - Saving data to `example_test_y` (MemoryDataSet)...\n",
      "2021-07-14 00:23:48,445 - kedro.runner.thread_runner - INFO - Completed node: split\n",
      "2021-07-14 00:23:48,445 - kedro.runner.thread_runner - INFO - Completed 1 out of 1 tasks\n",
      "2021-07-14 00:23:48,447 - kedro.runner.thread_runner - INFO - Pipeline execution completed successfully.\n",
      "2021-07-14 00:23:48,448 - kedro.io.data_catalog - INFO - Loading data from `example_train_y` (MemoryDataSet)...\n",
      "2021-07-14 00:23:48,448 - kedro.io.data_catalog - INFO - Loading data from `example_test_x` (MemoryDataSet)...\n",
      "2021-07-14 00:23:48,449 - kedro.io.data_catalog - INFO - Loading data from `example_test_y` (MemoryDataSet)...\n",
      "2021-07-14 00:23:48,451 - kedro.io.data_catalog - INFO - Loading data from `example_train_x` (MemoryDataSet)...\n"
     ]
    },
    {
     "name": "stderr",
     "output_type": "stream",
     "text": [
      "c:\\users\\dell\\anaconda3\\envs\\kedro-env\\lib\\site-packages\\kedro\\framework\\context\\context.py:61: DeprecationWarning: Accessing io via the context will be deprecated in Kedro 0.18.0.\n",
      "  DeprecationWarning,\n"
     ]
    }
   ],
   "source": [
    "run_pipeline(pipeline.only_nodes_with_tags(\"de\"))"
   ]
  },
  {
   "cell_type": "code",
   "execution_count": 68,
   "id": "0de22e86",
   "metadata": {},
   "outputs": [
    {
     "data": {
      "text/plain": [
       "['__add__',\n",
       " '__and__',\n",
       " '__class__',\n",
       " '__delattr__',\n",
       " '__dict__',\n",
       " '__dir__',\n",
       " '__doc__',\n",
       " '__eq__',\n",
       " '__format__',\n",
       " '__ge__',\n",
       " '__getattribute__',\n",
       " '__gt__',\n",
       " '__hash__',\n",
       " '__init__',\n",
       " '__init_subclass__',\n",
       " '__le__',\n",
       " '__lt__',\n",
       " '__module__',\n",
       " '__ne__',\n",
       " '__new__',\n",
       " '__or__',\n",
       " '__reduce__',\n",
       " '__reduce_ex__',\n",
       " '__repr__',\n",
       " '__setattr__',\n",
       " '__sizeof__',\n",
       " '__str__',\n",
       " '__sub__',\n",
       " '__subclasshook__',\n",
       " '__weakref__',\n",
       " '_get_nodes_with_inputs_transcode_compatible',\n",
       " '_get_nodes_with_outputs_transcode_compatible',\n",
       " '_nodes',\n",
       " '_nodes_by_input',\n",
       " '_nodes_by_name',\n",
       " '_nodes_by_output',\n",
       " '_remove_intermediates',\n",
       " '_topo_sorted_nodes',\n",
       " '_transcode_compatible_names',\n",
       " 'all_inputs',\n",
       " 'all_outputs',\n",
       " 'data_sets',\n",
       " 'decorate',\n",
       " 'describe',\n",
       " 'from_inputs',\n",
       " 'from_nodes',\n",
       " 'grouped_nodes',\n",
       " 'inputs',\n",
       " 'node_dependencies',\n",
       " 'nodes',\n",
       " 'only_nodes',\n",
       " 'only_nodes_with_inputs',\n",
       " 'only_nodes_with_namespace',\n",
       " 'only_nodes_with_outputs',\n",
       " 'only_nodes_with_tags',\n",
       " 'outputs',\n",
       " 'tag',\n",
       " 'to_json',\n",
       " 'to_nodes',\n",
       " 'to_outputs']"
      ]
     },
     "execution_count": 68,
     "metadata": {},
     "output_type": "execute_result"
    }
   ],
   "source": [
    "dir(pipeline)"
   ]
  }
 ],
 "metadata": {
  "kernelspec": {
   "display_name": "Python 3 (ipykernel)",
   "language": "python",
   "name": "python3"
  },
  "language_info": {
   "codemirror_mode": {
    "name": "ipython",
    "version": 3
   },
   "file_extension": ".py",
   "mimetype": "text/x-python",
   "name": "python",
   "nbconvert_exporter": "python",
   "pygments_lexer": "ipython3",
   "version": "3.7.10"
  }
 },
 "nbformat": 4,
 "nbformat_minor": 5
}
